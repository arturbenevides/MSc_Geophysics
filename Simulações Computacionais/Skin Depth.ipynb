{
 "cells": [
  {
   "cell_type": "markdown",
   "metadata": {},
   "source": [
    " # SKIN DEPTH\n",
    " \n",
    " I  conceito teórico \n",
    " \n",
    " II simulações"
   ]
  },
  {
   "cell_type": "code",
   "execution_count": 226,
   "metadata": {
    "collapsed": true
   },
   "outputs": [],
   "source": [
    "# Biblitecas utilizadas\n",
    "import numpy as np\n",
    "import matplotlib.pyplot as plt\n",
    "import pylab\n",
    "import glob\n",
    "import pandas as pd\n",
    "import math as math\n",
    "import os"
   ]
  },
  {
   "cell_type": "markdown",
   "metadata": {},
   "source": [
    "## Referencial Teórico\n",
    "\n",
    "obs: Aqui partimos objetivamente de onde surge o conceito de skin depth, para uma maior explanação ver texto do projeto de pesquisa."
   ]
  },
  {
   "cell_type": "markdown",
   "metadata": {},
   "source": [
    "Considerando o módulo do campo elétrico"
   ]
  },
  {
   "cell_type": "markdown",
   "metadata": {},
   "source": [
    "$$\n",
    "|E_{x}(Z)|=|E_{x}^{s}|e^{-\\sqrt{\\frac{\\omega \\mu \\sigma}{2}}Z}\n",
    "$$"
   ]
  },
  {
   "cell_type": "markdown",
   "metadata": {},
   "source": [
    "Isso decai monotonicamente com o aumento de z. A profundidade na qual $E_{x}|$ decresce a partir da superfície (z = 0) por um fator $1/e$ é definida pelo **skin depth** (**$\\delta$**)"
   ]
  },
  {
   "cell_type": "markdown",
   "metadata": {},
   "source": [
    "$$\n",
    "\\frac{|E_{x}(z=\\delta)|}{E_{x}^{s}} = \\frac{1}{e} = e^{-\\frac{\\omega\\mu\\sigma}{2}\\delta}\n",
    "$$"
   ]
  },
  {
   "cell_type": "markdown",
   "metadata": {},
   "source": [
    "que equivale:\n",
    "    \n",
    "$$\n",
    "\\sqrt{\\frac{\\omega\\mu\\sigma}{2}}\\delta= 1\n",
    "$$\n",
    "\n",
    "que pode ser rearranjado para dar:\n",
    "    \n",
    "$$\n",
    "\\delta=\\sqrt{\\frac{2}{\\omega\\mu\\sigma}}\n",
    "$$    \n"
   ]
  },
  {
   "cell_type": "markdown",
   "metadata": {},
   "source": [
    "Substituindo $\\mu$ por $\\mu_{0}=4\\pi 10^{-7}$ da uma expessão para o skin depth em metros, tal como:\n",
    "\n",
    "$$\n",
    "\\delta=\\frac{503}{\\sqrt{\\sigma f}}\n",
    "$$"
   ]
  },
  {
   "cell_type": "markdown",
   "metadata": {},
   "source": [
    "## Simulações"
   ]
  },
  {
   "cell_type": "markdown",
   "metadata": {},
   "source": [
    "Abaixo simulamos 3 situações distintas em que temos frequências iguais =  1 Hz e 100 Hz, para um meio com resistividade uniforme igual a 100 ohm.m."
   ]
  },
  {
   "cell_type": "code",
   "execution_count": 307,
   "metadata": {
    "collapsed": false
   },
   "outputs": [],
   "source": [
    "z=np.linspace(8000, 0, 1001) # Considerando um range de orofundidade escolhidas 0 até a profundidade de 8km com cada metro amostrado.\n",
    "\n",
    "mi=4*np.pi*10E-07 \n",
    "\n",
    "condutividade=1/10 # Inverso da resistividade"
   ]
  },
  {
   "cell_type": "markdown",
   "metadata": {},
   "source": [
    "### Frequêcia = 1 Hz"
   ]
  },
  {
   "cell_type": "code",
   "execution_count": 284,
   "metadata": {
    "collapsed": false
   },
   "outputs": [],
   "source": [
    "frequencia=1\n",
    "delta1= np.exp(-np.sqrt(frequencia*mi*condutividade/2)*z)\n"
   ]
  },
  {
   "cell_type": "markdown",
   "metadata": {},
   "source": [
    "### Frequêcia = 75 Hz"
   ]
  },
  {
   "cell_type": "code",
   "execution_count": 299,
   "metadata": {
    "collapsed": true
   },
   "outputs": [],
   "source": [
    "frequencia75=75\n",
    "delta75= np.exp(-np.sqrt(frequencia75*mi*condutividade/2)*z)"
   ]
  },
  {
   "cell_type": "markdown",
   "metadata": {},
   "source": [
    "### Frequêcia = 25 Hz"
   ]
  },
  {
   "cell_type": "code",
   "execution_count": 300,
   "metadata": {
    "collapsed": true
   },
   "outputs": [],
   "source": [
    "frequencia25=25\n",
    "delta25= np.exp(-np.sqrt(frequencia25*mi*condutividade/2)*z)"
   ]
  },
  {
   "cell_type": "markdown",
   "metadata": {},
   "source": [
    "### Frequêcia = 100 Hz"
   ]
  },
  {
   "cell_type": "code",
   "execution_count": 301,
   "metadata": {
    "collapsed": true
   },
   "outputs": [],
   "source": [
    "frequencia2=100\n",
    "\n",
    "delta2= np.exp(-np.sqrt(frequencia2*mi*condutividade/2)*z)"
   ]
  },
  {
   "cell_type": "code",
   "execution_count": 310,
   "metadata": {
    "collapsed": false
   },
   "outputs": [
    {
     "data": {
      "image/png": "[encoded data removed]",
      "text/plain": [
       "<matplotlib.figure.Figure at 0x22b0da76780>"
      ]
     },
     "metadata": {},
     "output_type": "display_data"
    }
   ],
   "source": [
    "fig = plt.figure(figsize=(7.0, 7.0))\n",
    "\n",
    "freq1 = plt.plot(delta2, z, label=\"100 Hz\", \n",
    "                   linestyle='solid', color='yellow', linewidth=1)\n",
    "freq75 = plt.plot(delta75, z, label=\"75 Hz\", \n",
    "                   linestyle='solid', color='red', linewidth=1)\n",
    "\n",
    "freq25 = plt.plot(delta25, z, label=\"25 Hz\", \n",
    "                 linestyle='solid', color='blue', linewidth=1)\n",
    "\n",
    "freq100 = plt.plot(delta1, z, label=\"1 Hz\", \n",
    "                   linestyle='solid', color='black', linewidth=1)\n",
    "\n",
    "\n",
    "plt.legend()\n",
    "\n",
    "plt.ylabel('Profundidade $(m)$', fontsize=14)\n",
    "plt.xlabel('$E_{x} / E_{x}^{0}$', fontsize=14)\n",
    "\n",
    "plt.text(0.85,6500,\"10 ohm.m\", fontsize=10)\n",
    "plt.yticks(np.arange(0, 8001, 1000))\n",
    "\n",
    "#plt.yticks(Profundidade (km), [\"0.5\", \"1.0\", \"1.5\", \"2.0\", \"2.5\", \"3.0\"])  \n",
    "           \n",
    "pylab.ylim([8000,0])\n",
    "plt.show()\n",
    "\n",
    "fig.savefig('skindepth.png', dpi=600)"
   ]
  },
  {
   "cell_type": "markdown",
   "metadata": {},
   "source": [
    "# Estimativa da profundidade de inverstigação para bacia do Iguatu\n"
   ]
  },
  {
   "cell_type": "markdown",
   "metadata": {},
   "source": [
    ">* Condutividade média da baica: 100 ohm.m\n",
    ">* frequência de aquisição: $10^{-3} - 10^{+3}$\n",
    ">* frequência de amostragem:\n",
    ">* Intervalo utilizável do dado:\n",
    "\n",
    "\n"
   ]
  },
  {
   "cell_type": "code",
   "execution_count": null,
   "metadata": {
    "collapsed": true
   },
   "outputs": [],
   "source": []
  }
 ],
 "metadata": {
  "kernelspec": {
   "display_name": "Python 3",
   "language": "python",
   "name": "python3"
  },
  "language_info": {
   "codemirror_mode": {
    "name": "ipython",
    "version": 3
   },
   "file_extension": ".py",
   "mimetype": "text/x-python",
   "name": "python",
   "nbconvert_exporter": "python",
   "pygments_lexer": "ipython3",
   "version": "3.6.0"
  }
 },
 "nbformat": 4,
 "nbformat_minor": 2
}
